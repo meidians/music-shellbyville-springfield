{
  "metadata": {
    "kernelspec": {
      "name": "python",
      "display_name": "Python (Pyodide)",
      "language": "python"
    },
    "language_info": {
      "codemirror_mode": {
        "name": "python",
        "version": 3
      },
      "file_extension": ".py",
      "mimetype": "text/x-python",
      "name": "python",
      "nbconvert_exporter": "python",
      "pygments_lexer": "ipython3",
      "version": "3.8"
    }
  },
  "nbformat_minor": 5,
  "nbformat": 4,
  "cells": [
    {
      "cell_type": "markdown",
      "source": "# Pendahuluan\n\nDalam proyek ini, saya akan membandingkan preferensi musik dari pendengar di kota Springfield dan Shebyville, Amerika Serikat. \n\nData yang digunakan adalah data dari Y.Music untuk menguji beberapa hipotesis dan membandingkan perilaku pengguna pada kedua kota tersebut. \n",
      "metadata": {},
      "id": "3e03eb23"
    },
    {
      "cell_type": "markdown",
      "source": "# Tujuan\n\nTujuan penelitian ini adalah untuk menguji tiga hipotesis:\n1. Aktivitas pendengar berbeda-beda tergantung pada hari dan kotanya. \n2. Pada hari Senin pagi, penduduk Springfield dan Shelbyville mendengarkan genre yang berbeda. Hal ini juga berlaku untuk hari Jumat malam. \n3. Pendengar di kota Springfield dan Shelbyville memiliki preferensi yang berbeda. Di Springfield, para pengguna lebih suka musik pop, sementara di Shelbyville musik rap memiliki lebih banyak pendengar. \n",
      "metadata": {},
      "id": "bf7e3f47"
    },
    {
      "cell_type": "markdown",
      "source": "# Tahapan\n\nData terkait perilaku pengguna disimpan dalam file `/datasets/music_project_en.csv`. \n\nKarena tidak ada informasi terkait kualitas data tersebut, saya harus memeriksa terlebih dahulu sebelum menguji hipotesis. \n\nPertama-tama, saya akan mengevaluasi kualitas data dan melihat apakah masalahnya signifikan. Kemudian, selama pra-pemrosesan data, saya akan mengatasi masalah yang cukup krusial. \n\nBerikut adalah tahapan proyek ini: \n1. Tinjauan data. \n2. Pra-pemrosesan data. \n3. Pengujian hipotesis. ",
      "metadata": {},
      "id": "853667f8"
    },
    {
      "cell_type": "markdown",
      "source": "# Tahap 1: Tinjauan Data\n\nSaya akan membuka data dari Y.Music, dan mempelajarinya terlebih dahulu. \n\nProyek ini membutuhkan library `Pandas`, saya akan mengimpornya terlebih dahulu. ",
      "metadata": {},
      "id": "d1f8b7bf"
    },
    {
      "cell_type": "code",
      "source": "# mengimpor library Pandas\n\nimport pandas as pd\n",
      "metadata": {
        "trusted": true
      },
      "execution_count": 1,
      "outputs": [],
      "id": "5badba98"
    },
    {
      "cell_type": "markdown",
      "source": " Kemudian, saya akan membaca file `music_project_en.csv` dari folder `/datasets/` lalu menyimpan file tersebut sebagai variabel `df`. ",
      "metadata": {},
      "id": "50ee3629"
    },
    {
      "cell_type": "code",
      "source": "# membaca file dan menyimpan sebagai variabel df\n\ndf = pd.read_csv('music_project_en.csv')",
      "metadata": {
        "trusted": true
      },
      "execution_count": 2,
      "outputs": [],
      "id": "2825b399"
    },
    {
      "cell_type": "code",
      "source": "# menampilkan 10 baris pertama dari tabel df\n\ndf.head(10)",
      "metadata": {
        "trusted": true
      },
      "execution_count": 3,
      "outputs": [
        {
          "execution_count": 3,
          "output_type": "execute_result",
          "data": {
            "text/plain": "     userID                        Track            artist   genre  \\\n0  FFB692EC            Kamigata To Boots  The Mass Missile    rock   \n1  55204538  Delayed Because of Accident  Andreas Rönnberg    rock   \n2    20EC38            Funiculì funiculà       Mario Lanza     pop   \n3  A3DD03C9        Dragons in the Sunset        Fire + Ice    folk   \n4  E2DC1FAE                  Soul People        Space Echo   dance   \n5  842029A1                       Chains          Obladaet  rusrap   \n6  4CB90AA5                         True      Roman Messer   dance   \n7  F03E1C1F             Feeling This Way   Polina Griffith   dance   \n8  8FA1D3BE                     L’estate       Julia Dalia  ruspop   \n9  E772D5C0                    Pessimist               NaN   dance   \n\n        City        time        Day  \n0  Shelbyville  20:28:33  Wednesday  \n1  Springfield  14:07:09     Friday  \n2  Shelbyville  20:58:07  Wednesday  \n3  Shelbyville  08:37:09     Monday  \n4  Springfield  08:34:34     Monday  \n5  Shelbyville  13:09:41     Friday  \n6  Springfield  13:00:07  Wednesday  \n7  Springfield  20:47:49  Wednesday  \n8  Springfield  09:17:40     Friday  \n9  Shelbyville  21:20:49  Wednesday  ",
            "text/html": "<div>\n<style scoped>\n    .dataframe tbody tr th:only-of-type {\n        vertical-align: middle;\n    }\n\n    .dataframe tbody tr th {\n        vertical-align: top;\n    }\n\n    .dataframe thead th {\n        text-align: right;\n    }\n</style>\n<table border=\"1\" class=\"dataframe\">\n  <thead>\n    <tr style=\"text-align: right;\">\n      <th></th>\n      <th>userID</th>\n      <th>Track</th>\n      <th>artist</th>\n      <th>genre</th>\n      <th>City</th>\n      <th>time</th>\n      <th>Day</th>\n    </tr>\n  </thead>\n  <tbody>\n    <tr>\n      <th>0</th>\n      <td>FFB692EC</td>\n      <td>Kamigata To Boots</td>\n      <td>The Mass Missile</td>\n      <td>rock</td>\n      <td>Shelbyville</td>\n      <td>20:28:33</td>\n      <td>Wednesday</td>\n    </tr>\n    <tr>\n      <th>1</th>\n      <td>55204538</td>\n      <td>Delayed Because of Accident</td>\n      <td>Andreas Rönnberg</td>\n      <td>rock</td>\n      <td>Springfield</td>\n      <td>14:07:09</td>\n      <td>Friday</td>\n    </tr>\n    <tr>\n      <th>2</th>\n      <td>20EC38</td>\n      <td>Funiculì funiculà</td>\n      <td>Mario Lanza</td>\n      <td>pop</td>\n      <td>Shelbyville</td>\n      <td>20:58:07</td>\n      <td>Wednesday</td>\n    </tr>\n    <tr>\n      <th>3</th>\n      <td>A3DD03C9</td>\n      <td>Dragons in the Sunset</td>\n      <td>Fire + Ice</td>\n      <td>folk</td>\n      <td>Shelbyville</td>\n      <td>08:37:09</td>\n      <td>Monday</td>\n    </tr>\n    <tr>\n      <th>4</th>\n      <td>E2DC1FAE</td>\n      <td>Soul People</td>\n      <td>Space Echo</td>\n      <td>dance</td>\n      <td>Springfield</td>\n      <td>08:34:34</td>\n      <td>Monday</td>\n    </tr>\n    <tr>\n      <th>5</th>\n      <td>842029A1</td>\n      <td>Chains</td>\n      <td>Obladaet</td>\n      <td>rusrap</td>\n      <td>Shelbyville</td>\n      <td>13:09:41</td>\n      <td>Friday</td>\n    </tr>\n    <tr>\n      <th>6</th>\n      <td>4CB90AA5</td>\n      <td>True</td>\n      <td>Roman Messer</td>\n      <td>dance</td>\n      <td>Springfield</td>\n      <td>13:00:07</td>\n      <td>Wednesday</td>\n    </tr>\n    <tr>\n      <th>7</th>\n      <td>F03E1C1F</td>\n      <td>Feeling This Way</td>\n      <td>Polina Griffith</td>\n      <td>dance</td>\n      <td>Springfield</td>\n      <td>20:47:49</td>\n      <td>Wednesday</td>\n    </tr>\n    <tr>\n      <th>8</th>\n      <td>8FA1D3BE</td>\n      <td>L’estate</td>\n      <td>Julia Dalia</td>\n      <td>ruspop</td>\n      <td>Springfield</td>\n      <td>09:17:40</td>\n      <td>Friday</td>\n    </tr>\n    <tr>\n      <th>9</th>\n      <td>E772D5C0</td>\n      <td>Pessimist</td>\n      <td>NaN</td>\n      <td>dance</td>\n      <td>Shelbyville</td>\n      <td>21:20:49</td>\n      <td>Wednesday</td>\n    </tr>\n  </tbody>\n</table>\n</div>"
          },
          "metadata": {}
        }
      ],
      "id": "c3009c50"
    },
    {
      "cell_type": "markdown",
      "source": "Saya akan mendapatkan informasi umum tentang tabel: ",
      "metadata": {},
      "id": "8f028b05"
    },
    {
      "cell_type": "code",
      "source": "# memperoleh informasi umum tentang data yang tersedia di df\n\ndf.info()",
      "metadata": {
        "trusted": true
      },
      "execution_count": 4,
      "outputs": [
        {
          "name": "stdout",
          "text": "<class 'pandas.core.frame.DataFrame'>\nRangeIndex: 65079 entries, 0 to 65078\nData columns (total 7 columns):\n #   Column    Non-Null Count  Dtype \n---  ------    --------------  ----- \n 0     userID  65079 non-null  object\n 1   Track     63736 non-null  object\n 2   artist    57512 non-null  object\n 3   genre     63881 non-null  object\n 4     City    65079 non-null  object\n 5   time      65079 non-null  object\n 6   Day       65079 non-null  object\ndtypes: object(7)\nmemory usage: 1.7+ MB\n",
          "output_type": "stream"
        }
      ],
      "id": "ad6b0688"
    },
    {
      "cell_type": "markdown",
      "source": "Dalam tampilan di atas, terlihat bahwa kolom memiliki nilai yang berbeda-beda. Hal ini menandakan bahwa data ini memiliki nilai yang hilang. \n\nSaya akan menampilkan seluruh judul kolom pada tabel: ",
      "metadata": {},
      "id": "b1523fc1"
    },
    {
      "cell_type": "code",
      "source": "# menampilkan seluruh judul kolom pada tabel: \n\ndf.columns\n",
      "metadata": {
        "trusted": true
      },
      "execution_count": 5,
      "outputs": [
        {
          "execution_count": 5,
          "output_type": "execute_result",
          "data": {
            "text/plain": "Index(['  userID', 'Track', 'artist', 'genre', '  City  ', 'time', 'Day'], dtype='object')"
          },
          "metadata": {}
        }
      ],
      "id": "78fac387"
    },
    {
      "cell_type": "markdown",
      "source": "Tabel ini berisi tujuh kolom. Semua kolom memiliki tipe data yang sama, yaitu: `object`.\n\nBerikut adalah ketujuh kolom tersebut: \n1. `'  userID'` - ID pengguna\n2. `'Track'` - Judul Lagu\n3. `'artist'` - Nama artis\n4. `'genre'` - genre\n5. `'  City  '` - kota asal pengguna\n6. `'time'` - waktu saat lagu diputar\n7. `'Day'` - hari saat lagu diputar\n\nBerdasarkan data di atas, ada dua masalah dengan gaya penulisan nama kolom: \n1. Beberapa nama ditulis dalam huruf besar, sebagian yang lain dengan huruf kecil. \n2. Beberapa nama menggunakan spasi. \n",
      "metadata": {},
      "id": "4507c3c2"
    },
    {
      "cell_type": "markdown",
      "source": "## Kesimpulan\n\nSetiap baris dalam tabel menyimpan data ID pengguna, judul lagu, nama artis, genre lagu tersebut, kota asal pengguna, waktu saat lagu itu di putar, dan hari saat lagu di putar. \n\nData memiliki dua masalah: \n1. Nilai yang hilang. \n2. Nama kolom bermasalah. \n",
      "metadata": {},
      "id": "dbdc1b77"
    },
    {
      "cell_type": "markdown",
      "source": "# Tahap 2: Pra-pemrosesan Data\n\nDi tahap ini, saya akan memperbaiki judul kolom, mengatasi nilai yang hilang, serta memeriksa apakah data mengandung duplikat. \n\n## Memperbaiki judul kolom\n\nSaya akan mengubah judul kolom dengan aturan gaya penulisan yang baik: \n* Menggunakan snake_case, alih-alih spasi. \n* Semua karakter menggunakan huruf kecil. \n* Tidak ada spasi di akhiran dan awalan nama. \n\nPertama-tama saya akan menampilkan judul kolom terlebih dahulu: \n",
      "metadata": {},
      "id": "0a87566c"
    },
    {
      "cell_type": "code",
      "source": "# menampilkan judul kolom\n\ndf.columns",
      "metadata": {
        "trusted": true
      },
      "execution_count": 6,
      "outputs": [
        {
          "execution_count": 6,
          "output_type": "execute_result",
          "data": {
            "text/plain": "Index(['  userID', 'Track', 'artist', 'genre', '  City  ', 'time', 'Day'], dtype='object')"
          },
          "metadata": {}
        }
      ],
      "id": "26c35808"
    },
    {
      "cell_type": "markdown",
      "source": "Dari data di atas, judul kolom yang bermasalah ada empat: \n- '  userID'\n- 'Track'\n- '  City  '\n- 'Day'\n\nMaka, saya akan mengubah keempat nama tersebut sesuai aturan gaya penulisan yang telah disebut di atas: ",
      "metadata": {},
      "id": "d16b33c7"
    },
    {
      "cell_type": "code",
      "source": "# Mengubah judul kolom\n\ndf = df.rename(columns={\n    '  userID' : 'user_id',\n    'Track' : 'track',\n    '  City  ' : 'city',\n    'Day' : 'day',\n})",
      "metadata": {
        "trusted": true
      },
      "execution_count": 7,
      "outputs": [],
      "id": "a1f4c028"
    },
    {
      "cell_type": "markdown",
      "source": "Kemudian saya akan memeriksa, apakah judul kolom sudah sesuai: ",
      "metadata": {},
      "id": "b4a8080a"
    },
    {
      "cell_type": "code",
      "source": "df.columns",
      "metadata": {
        "trusted": true
      },
      "execution_count": 8,
      "outputs": [
        {
          "execution_count": 8,
          "output_type": "execute_result",
          "data": {
            "text/plain": "Index(['user_id', 'track', 'artist', 'genre', 'city', 'time', 'day'], dtype='object')"
          },
          "metadata": {}
        }
      ],
      "id": "74027aa9"
    },
    {
      "cell_type": "markdown",
      "source": "Sekarang, seluruh judul kolom sudah sesuai dengan aturan penulisan yang baik. ",
      "metadata": {},
      "id": "316df039"
    },
    {
      "cell_type": "markdown",
      "source": "## Mengatasi Nilai yang Hilang\n\nPertama-tama saya akan menghitung terlebih dahulu berapa nilai yang hilang dalam tabel: ",
      "metadata": {},
      "id": "bf4ba47a"
    },
    {
      "cell_type": "code",
      "source": "# menghitung nilai yang hilang: \n\ndf.isnull().sum() \ndf.isna().sum()",
      "metadata": {
        "trusted": true
      },
      "execution_count": 9,
      "outputs": [
        {
          "execution_count": 9,
          "output_type": "execute_result",
          "data": {
            "text/plain": "user_id       0\ntrack      1343\nartist     7567\ngenre      1198\ncity          0\ntime          0\nday           0\ndtype: int64"
          },
          "metadata": {}
        }
      ],
      "id": "c240d173"
    },
    {
      "cell_type": "markdown",
      "source": "Dari informasi di atas, terlihat nilai yang hilang ada pada kolom: \n- track\n- artist\n- genre\n\nTidak semua nilai yang hilang berpengaruh terhadap penelitian kali ini. Misalnya, nilai yang hilang pada kolom `track` dan `artist` tidak begitu penting, sehingga saya hanya akan beri penanda yang jelas saja. \n\nNamun, nilai yang hilang dalam kolom `genre` akan memengaruhi perbandingan preferensi musik di kota Springfield dan Shelbyville. Sayangnya, karena keterbatasan sumber daya saya tidak dapat memperbaiki nilai yang hilang dalam kolom `genre`, kecuali hanya diberikan pendanda saja. \n\nJadi, saya akan mengganti nilai yang hilang pada kolom track, artist, dan genre sebagai `unknown`. \n\nUntuk itu, saya akan menerapkan loop `for` untuk mengganti nilai yang hilang pada setiap kolom. \n\n",
      "metadata": {},
      "id": "85df7dd9"
    },
    {
      "cell_type": "code",
      "source": "# menerapkan loop terhadap judul kolom dan mengganti nilai yang hilang dengan 'unknown'\n\nmissing_value = ['track', 'artist', 'genre']\n\nfor value in missing_value:\n    df[value] = df[value].fillna('unknown')\n",
      "metadata": {
        "trusted": true
      },
      "execution_count": 10,
      "outputs": [],
      "id": "ffed1a98"
    },
    {
      "cell_type": "markdown",
      "source": "Saya akan memastikan kembali apakah tabel masih berisi nilai yang hilang. Untuk itu saya akan menghitung kembali nilai yang hilang: ",
      "metadata": {},
      "id": "216bd933"
    },
    {
      "cell_type": "code",
      "source": "# menghitung nilai yang hilang: \n\ndf.isnull().sum() \ndf.isna().sum()",
      "metadata": {
        "trusted": true
      },
      "execution_count": 11,
      "outputs": [
        {
          "execution_count": 11,
          "output_type": "execute_result",
          "data": {
            "text/plain": "user_id    0\ntrack      0\nartist     0\ngenre      0\ncity       0\ntime       0\nday        0\ndtype: int64"
          },
          "metadata": {}
        }
      ],
      "id": "19a75fdd"
    },
    {
      "cell_type": "markdown",
      "source": "Sekarang, seluruh nilai yang hilang pada masing-masing kolom sudah tidak ada. ",
      "metadata": {},
      "id": "c589d58c"
    },
    {
      "cell_type": "markdown",
      "source": "## Memeriksa Nilai Duplikat\n\nNilai duplikat dalam data merupakan salah satu masalah yang bisa berpengaruh pada analisis data. \n\nNilai duplikat terdiri dari dua jenis: duplikat eksplisit dan implisit. \n\nOleh karenanya, saya akan memeriksa nilai duplikat eksplisit terlebih dahulu dalam tabel sebagai berikut: \n",
      "metadata": {},
      "id": "d7c04187"
    },
    {
      "cell_type": "code",
      "source": "# menghitung duplikat eksplisit\n\ndf.duplicated().sum()\n",
      "metadata": {
        "trusted": true
      },
      "execution_count": 12,
      "outputs": [
        {
          "execution_count": 12,
          "output_type": "execute_result",
          "data": {
            "text/plain": "3826"
          },
          "metadata": {}
        }
      ],
      "id": "04de7ee0"
    },
    {
      "cell_type": "markdown",
      "source": "Terdapat 3.826 duplikat eksplisit. Saya akan memanggil satu metode `Pandas`, untuk menghapus duplikat eksplisit: ",
      "metadata": {},
      "id": "79f91498"
    },
    {
      "cell_type": "code",
      "source": "# menghapus duplikat eksplisit\n\ndf = df.drop_duplicates()",
      "metadata": {
        "trusted": true
      },
      "execution_count": 13,
      "outputs": [],
      "id": "8ef08f2d"
    },
    {
      "cell_type": "markdown",
      "source": "Kemudian, saya akan memeriksa apakah masih ada nilai duplikat ekspisit: ",
      "metadata": {},
      "id": "f2279b87"
    },
    {
      "cell_type": "code",
      "source": "# menghitung duplikat eksplisit\n\ndf.duplicated().sum()",
      "metadata": {
        "trusted": true
      },
      "execution_count": 14,
      "outputs": [
        {
          "execution_count": 14,
          "output_type": "execute_result",
          "data": {
            "text/plain": "0"
          },
          "metadata": {}
        }
      ],
      "id": "a5b7a4be"
    },
    {
      "cell_type": "markdown",
      "source": "Sekarang, nilai duplikat ekspisit sudah berhasil terhapus. ",
      "metadata": {},
      "id": "5cbe5a90"
    },
    {
      "cell_type": "markdown",
      "source": "Langkah berikutnya, saya akan menghapus duplikat implisit, di kolom `genre`. Ini hanya dilakukan di kolom `genre` karena kesalahan di kolom tersebut akan memengaruhi hasil analisis dalam penelitian ini.\n\nLangkah-langkahnya adalah sebagai berikut: \n- saya akan mengambil kolom DataFrame yang diinginkan. \n- Menerapkan metode pengurutan pada kolom tersebut. \n- Untuk kolom yang telah diurutkan, saya akan memanggil metode yang akan menghasilkan semua nilai unik kolom. \n",
      "metadata": {},
      "id": "0b71017f"
    },
    {
      "cell_type": "code",
      "source": "# mengambil kolom 'genre' dan menerapkan pengurutan, dan menampilkan nilai unik\n\nimplicit_duplicate_genres = sorted(df['genre'].unique())\n\nimplicit_duplicate_genres",
      "metadata": {
        "trusted": true
      },
      "execution_count": 15,
      "outputs": [
        {
          "execution_count": 15,
          "output_type": "execute_result",
          "data": {
            "text/plain": "['acid',\n 'acoustic',\n 'action',\n 'adult',\n 'africa',\n 'afrikaans',\n 'alternative',\n 'ambient',\n 'americana',\n 'animated',\n 'anime',\n 'arabesk',\n 'arabic',\n 'arena',\n 'argentinetango',\n 'art',\n 'audiobook',\n 'avantgarde',\n 'axé',\n 'baile',\n 'balkan',\n 'beats',\n 'bigroom',\n 'black',\n 'bluegrass',\n 'blues',\n 'bollywood',\n 'bossa',\n 'brazilian',\n 'breakbeat',\n 'breaks',\n 'broadway',\n 'cantautori',\n 'cantopop',\n 'canzone',\n 'caribbean',\n 'caucasian',\n 'celtic',\n 'chamber',\n 'children',\n 'chill',\n 'chinese',\n 'choral',\n 'christian',\n 'christmas',\n 'classical',\n 'classicmetal',\n 'club',\n 'colombian',\n 'comedy',\n 'conjazz',\n 'contemporary',\n 'country',\n 'cuban',\n 'dance',\n 'dancehall',\n 'dancepop',\n 'dark',\n 'death',\n 'deep',\n 'deutschrock',\n 'deutschspr',\n 'dirty',\n 'disco',\n 'dnb',\n 'documentary',\n 'downbeat',\n 'downtempo',\n 'drum',\n 'dub',\n 'dubstep',\n 'eastern',\n 'easy',\n 'electronic',\n 'electropop',\n 'emo',\n 'entehno',\n 'epicmetal',\n 'estrada',\n 'ethnic',\n 'eurofolk',\n 'european',\n 'experimental',\n 'extrememetal',\n 'fado',\n 'film',\n 'fitness',\n 'flamenco',\n 'folk',\n 'folklore',\n 'folkmetal',\n 'folkrock',\n 'folktronica',\n 'forró',\n 'frankreich',\n 'französisch',\n 'french',\n 'funk',\n 'future',\n 'gangsta',\n 'garage',\n 'german',\n 'ghazal',\n 'gitarre',\n 'glitch',\n 'gospel',\n 'gothic',\n 'grime',\n 'grunge',\n 'gypsy',\n 'handsup',\n \"hard'n'heavy\",\n 'hardcore',\n 'hardstyle',\n 'hardtechno',\n 'hip',\n 'hip-hop',\n 'hiphop',\n 'historisch',\n 'holiday',\n 'hop',\n 'horror',\n 'house',\n 'idm',\n 'independent',\n 'indian',\n 'indie',\n 'indipop',\n 'industrial',\n 'inspirational',\n 'instrumental',\n 'international',\n 'irish',\n 'jam',\n 'japanese',\n 'jazz',\n 'jewish',\n 'jpop',\n 'jungle',\n 'k-pop',\n 'karadeniz',\n 'karaoke',\n 'kayokyoku',\n 'korean',\n 'laiko',\n 'latin',\n 'latino',\n 'leftfield',\n 'local',\n 'lounge',\n 'loungeelectronic',\n 'lovers',\n 'malaysian',\n 'mandopop',\n 'marschmusik',\n 'meditative',\n 'mediterranean',\n 'melodic',\n 'metal',\n 'metalcore',\n 'mexican',\n 'middle',\n 'minimal',\n 'miscellaneous',\n 'modern',\n 'mood',\n 'mpb',\n 'muslim',\n 'native',\n 'neoklassik',\n 'neue',\n 'new',\n 'newage',\n 'newwave',\n 'nu',\n 'nujazz',\n 'numetal',\n 'oceania',\n 'old',\n 'opera',\n 'orchestral',\n 'other',\n 'piano',\n 'pop',\n 'popelectronic',\n 'popeurodance',\n 'post',\n 'posthardcore',\n 'postrock',\n 'power',\n 'progmetal',\n 'progressive',\n 'psychedelic',\n 'punjabi',\n 'punk',\n 'quebecois',\n 'ragga',\n 'ram',\n 'rancheras',\n 'rap',\n 'rave',\n 'reggae',\n 'reggaeton',\n 'regional',\n 'relax',\n 'religious',\n 'retro',\n 'rhythm',\n 'rnb',\n 'rnr',\n 'rock',\n 'rockabilly',\n 'romance',\n 'roots',\n 'ruspop',\n 'rusrap',\n 'rusrock',\n 'salsa',\n 'samba',\n 'schlager',\n 'self',\n 'sertanejo',\n 'shoegazing',\n 'showtunes',\n 'singer',\n 'ska',\n 'slow',\n 'smooth',\n 'soul',\n 'soulful',\n 'sound',\n 'soundtrack',\n 'southern',\n 'specialty',\n 'speech',\n 'spiritual',\n 'sport',\n 'stonerrock',\n 'surf',\n 'swing',\n 'synthpop',\n 'sängerportrait',\n 'tango',\n 'tanzorchester',\n 'taraftar',\n 'tech',\n 'techno',\n 'thrash',\n 'top',\n 'traditional',\n 'tradjazz',\n 'trance',\n 'tribal',\n 'trip',\n 'triphop',\n 'tropical',\n 'türk',\n 'türkçe',\n 'unknown',\n 'urban',\n 'uzbek',\n 'variété',\n 'vi',\n 'videogame',\n 'vocal',\n 'western',\n 'world',\n 'worldbeat',\n 'ïîï']"
          },
          "metadata": {}
        }
      ],
      "id": "102fe566"
    },
    {
      "cell_type": "markdown",
      "source": "Jika kita lihat baik-baik pada list di atas, terdapat duplikat implisit pada genre `hiphop` berbentuk nama yang ditulis secara tidak tepat, atau nama alternatif dari genre yang sama, yaitu: \n- `hip`\n- `hop`\n- `hip-hop`\n\nSaya akan mengganti ketiga nama tersebut dengan `hiphop`, menggunakan fungsi `replace_wrong_genre` dengan dua parameter: \n- `wrong_genre` -- list dengan duplikat yang ingin diganti\n- `correct_genre` -- string dengan nilai yang benar\n\n",
      "metadata": {},
      "id": "c21b5fa7"
    },
    {
      "cell_type": "code",
      "source": "# membuat fungsi untuk mengganti duplikat implisit\n\ndef replace_wrong_genres(wrong_genres, correct_genre): \n    for wrong_genre in wrong_genres: \n        df['genre'] = df['genre'].replace(wrong_genre, correct_genre)\n\nhiphop_wrong_name = ['hip','hop','hip-hop']\nhiphop_correct_name = 'hiphop'\n",
      "metadata": {
        "trusted": true
      },
      "execution_count": 16,
      "outputs": [],
      "id": "f0b0130b"
    },
    {
      "cell_type": "markdown",
      "source": "Kemudian saya akan memanggil fungsi replace_wrong_genres() dan meneruskan argumen kepada fungsi tersebut, sehingga ia dapat menghapus duplikat implisit dengan menggantinya dengan yang benar. ",
      "metadata": {},
      "id": "b8f2d134"
    },
    {
      "cell_type": "code",
      "source": "# memanggil fungsi untuk mengganti duplikat implisit\n\nreplace_wrong_genres(hiphop_wrong_name, hiphop_correct_name)\n",
      "metadata": {
        "trusted": true
      },
      "execution_count": 17,
      "outputs": [],
      "id": "32ec5ab0"
    },
    {
      "cell_type": "markdown",
      "source": "Selanjutnya, saya akan memastikan nilai yang terduplikasi telah berganti menjadi `hiphop':",
      "metadata": {},
      "id": "8100b98c"
    },
    {
      "cell_type": "code",
      "source": "# menampilkan implicit duplicate genres\n\nsorted(df['genre'].unique())",
      "metadata": {
        "trusted": true
      },
      "execution_count": 18,
      "outputs": [
        {
          "execution_count": 18,
          "output_type": "execute_result",
          "data": {
            "text/plain": "['acid',\n 'acoustic',\n 'action',\n 'adult',\n 'africa',\n 'afrikaans',\n 'alternative',\n 'ambient',\n 'americana',\n 'animated',\n 'anime',\n 'arabesk',\n 'arabic',\n 'arena',\n 'argentinetango',\n 'art',\n 'audiobook',\n 'avantgarde',\n 'axé',\n 'baile',\n 'balkan',\n 'beats',\n 'bigroom',\n 'black',\n 'bluegrass',\n 'blues',\n 'bollywood',\n 'bossa',\n 'brazilian',\n 'breakbeat',\n 'breaks',\n 'broadway',\n 'cantautori',\n 'cantopop',\n 'canzone',\n 'caribbean',\n 'caucasian',\n 'celtic',\n 'chamber',\n 'children',\n 'chill',\n 'chinese',\n 'choral',\n 'christian',\n 'christmas',\n 'classical',\n 'classicmetal',\n 'club',\n 'colombian',\n 'comedy',\n 'conjazz',\n 'contemporary',\n 'country',\n 'cuban',\n 'dance',\n 'dancehall',\n 'dancepop',\n 'dark',\n 'death',\n 'deep',\n 'deutschrock',\n 'deutschspr',\n 'dirty',\n 'disco',\n 'dnb',\n 'documentary',\n 'downbeat',\n 'downtempo',\n 'drum',\n 'dub',\n 'dubstep',\n 'eastern',\n 'easy',\n 'electronic',\n 'electropop',\n 'emo',\n 'entehno',\n 'epicmetal',\n 'estrada',\n 'ethnic',\n 'eurofolk',\n 'european',\n 'experimental',\n 'extrememetal',\n 'fado',\n 'film',\n 'fitness',\n 'flamenco',\n 'folk',\n 'folklore',\n 'folkmetal',\n 'folkrock',\n 'folktronica',\n 'forró',\n 'frankreich',\n 'französisch',\n 'french',\n 'funk',\n 'future',\n 'gangsta',\n 'garage',\n 'german',\n 'ghazal',\n 'gitarre',\n 'glitch',\n 'gospel',\n 'gothic',\n 'grime',\n 'grunge',\n 'gypsy',\n 'handsup',\n \"hard'n'heavy\",\n 'hardcore',\n 'hardstyle',\n 'hardtechno',\n 'hiphop',\n 'historisch',\n 'holiday',\n 'horror',\n 'house',\n 'idm',\n 'independent',\n 'indian',\n 'indie',\n 'indipop',\n 'industrial',\n 'inspirational',\n 'instrumental',\n 'international',\n 'irish',\n 'jam',\n 'japanese',\n 'jazz',\n 'jewish',\n 'jpop',\n 'jungle',\n 'k-pop',\n 'karadeniz',\n 'karaoke',\n 'kayokyoku',\n 'korean',\n 'laiko',\n 'latin',\n 'latino',\n 'leftfield',\n 'local',\n 'lounge',\n 'loungeelectronic',\n 'lovers',\n 'malaysian',\n 'mandopop',\n 'marschmusik',\n 'meditative',\n 'mediterranean',\n 'melodic',\n 'metal',\n 'metalcore',\n 'mexican',\n 'middle',\n 'minimal',\n 'miscellaneous',\n 'modern',\n 'mood',\n 'mpb',\n 'muslim',\n 'native',\n 'neoklassik',\n 'neue',\n 'new',\n 'newage',\n 'newwave',\n 'nu',\n 'nujazz',\n 'numetal',\n 'oceania',\n 'old',\n 'opera',\n 'orchestral',\n 'other',\n 'piano',\n 'pop',\n 'popelectronic',\n 'popeurodance',\n 'post',\n 'posthardcore',\n 'postrock',\n 'power',\n 'progmetal',\n 'progressive',\n 'psychedelic',\n 'punjabi',\n 'punk',\n 'quebecois',\n 'ragga',\n 'ram',\n 'rancheras',\n 'rap',\n 'rave',\n 'reggae',\n 'reggaeton',\n 'regional',\n 'relax',\n 'religious',\n 'retro',\n 'rhythm',\n 'rnb',\n 'rnr',\n 'rock',\n 'rockabilly',\n 'romance',\n 'roots',\n 'ruspop',\n 'rusrap',\n 'rusrock',\n 'salsa',\n 'samba',\n 'schlager',\n 'self',\n 'sertanejo',\n 'shoegazing',\n 'showtunes',\n 'singer',\n 'ska',\n 'slow',\n 'smooth',\n 'soul',\n 'soulful',\n 'sound',\n 'soundtrack',\n 'southern',\n 'specialty',\n 'speech',\n 'spiritual',\n 'sport',\n 'stonerrock',\n 'surf',\n 'swing',\n 'synthpop',\n 'sängerportrait',\n 'tango',\n 'tanzorchester',\n 'taraftar',\n 'tech',\n 'techno',\n 'thrash',\n 'top',\n 'traditional',\n 'tradjazz',\n 'trance',\n 'tribal',\n 'trip',\n 'triphop',\n 'tropical',\n 'türk',\n 'türkçe',\n 'unknown',\n 'urban',\n 'uzbek',\n 'variété',\n 'vi',\n 'videogame',\n 'vocal',\n 'western',\n 'world',\n 'worldbeat',\n 'ïîï']"
          },
          "metadata": {}
        }
      ],
      "id": "d31ab24a"
    },
    {
      "cell_type": "markdown",
      "source": "Terlihat bahwa nilai yang terduplikasi telah terhapus. ",
      "metadata": {},
      "id": "ec1d8d62"
    },
    {
      "cell_type": "markdown",
      "source": "## Kesimpulan Tahap 2\n\nBerdasarkan informasi di atas, saya mendeteksi ada tiga masalah utama dalam data ini: \n- Penulisan judul yang salah.\n- Nilai yang hilang. \n- Duplikat eksplisit dan implisit. \n\nSetelah semua proses di atas, nama-nama kolom telah diperbaiki untuk mempermudah pemrosesan tabel. Semua nilai yang hilang telah diganti dengan `unknown`. Meski demikian, saya masih harus melihat apakah nilai yang hilang dalam kolom `genre` berpengaruh terhadap penelitian ini. Duplikat eksplisit dan implisit pun telah selesai diatasi. Dengan tidak adanya duplikat, hasil analisis akan menjadi lebih tepat dan mudah dipahami. \n\n\n",
      "metadata": {},
      "id": "2d80314d"
    },
    {
      "cell_type": "markdown",
      "source": "# Tahap 3: Pengujian Hipotesis",
      "metadata": {},
      "id": "23f4a509"
    },
    {
      "cell_type": "markdown",
      "source": "## Hipotesis 1: Pengguna dari Kota Springfield dan Shelbyville memiliki perbedaan perilaku dalam mendegarkan musik. \n\nPengujian akan dilakukan dengan mengambil tiga hari dalam seminggu: Senin, Rabu, dan Jumat. \n\nSebelum memulai, saya akan mengelompokkan pengguna berdasarkan kota. \n\nKemudian, saya akan membandingkan berapa banyak trek lagu yang dimainkan oleh setiap kelompok pada hari Senin, Rabu, dan Jum'at. \n\nLalu, melakukan perhitungan, serta mengevaluasi hasilnya. \n\nLangkah pertama: saya akan menampilkan jumlah lagu yang diputar (`track`) berdasarkan kota asal pengguna (`city`). \n",
      "metadata": {},
      "id": "6e32b3c1"
    },
    {
      "cell_type": "code",
      "source": "# menghitung trek lagu yang diputar di masing-masing kota\n\ndf.groupby('city')['track'].count()\n",
      "metadata": {
        "trusted": true
      },
      "execution_count": 19,
      "outputs": [
        {
          "execution_count": 19,
          "output_type": "execute_result",
          "data": {
            "text/plain": "city\nShelbyville    18512\nSpringfield    42741\nName: track, dtype: int64"
          },
          "metadata": {}
        }
      ],
      "id": "dfc35e2f"
    },
    {
      "cell_type": "markdown",
      "source": "Dari hasil, terlihat bahwa pengguna dari kota Springfield memutar lebih banyak lagu yakni sebesar 43 ribu dibandingkan dengan Shelbyville yang sebesar 19 ribu lagu. \n\nAkan tetapi, hal ini tidak serta-merta mengisyaratkan bahwa warga Springfield lebih sering mendengarkan musik. Sebab, kota ini memang lebih besar, dan terdapat lebih banyak pengguna dibandingkan dengan Shelbyville. Jadi, hal ini merupakan hal yang wajar. \n\nSekarang, saya akan mengelompokkan data berdasarkan hari dan temukan jumlah trek lagu yang diputar pada hari Senin, Rabu, dan Jumat. \n",
      "metadata": {},
      "id": "f301397a"
    },
    {
      "cell_type": "code",
      "source": "# menghitung trek lagu yang diputar pada masing-masing hari\n\ndf.groupby('day')['track'].count()",
      "metadata": {
        "trusted": true
      },
      "execution_count": 20,
      "outputs": [
        {
          "execution_count": 20,
          "output_type": "execute_result",
          "data": {
            "text/plain": "day\nFriday       21840\nMonday       21354\nWednesday    18059\nName: track, dtype: int64"
          },
          "metadata": {}
        }
      ],
      "id": "f4843020"
    },
    {
      "cell_type": "markdown",
      "source": "Di hari Rabu, secara keseluruhan merupakan hari yang paling tenang dibandingkan hari Senin dan Jumat.\n\nJumlah lagu yang diputar pada hari Rabu sebanyak 18 ribu, lebih tenang dari hari Jumat dan Senin yang masing-masing sebesar 22 ribu dan 21 ribu kali. \n\nNamun, mungkin akan berbeda hasilnya jika saya mengelompokkan kedua kota secara terpisah. ",
      "metadata": {},
      "id": "55dc83b8"
    },
    {
      "cell_type": "markdown",
      "source": "Sekarang saya akan menghitung jumlah trek lagu yang diputar untuk hari dan kota tertentu. Fungsi tersebut akan membutuhkan dua parameter: \n1. nama hari dalam seminggu\n2. nama kota",
      "metadata": {},
      "id": "f312b5c5"
    },
    {
      "cell_type": "markdown",
      "source": "Dalam fungsi yang akan saya buat buat, saya menggunakan variabel untuk meyimpan baris dari tabel asli.     \n",
      "metadata": {},
      "id": "c69aa19e"
    },
    {
      "cell_type": "code",
      "source": "def number_tracks(day, city):\n    filtered_df = df[(df['day'] == day) & (df['city'] == city)] \n    track_list_count = filtered_df['user_id'].count()\n    return track_list_count",
      "metadata": {
        "trusted": true
      },
      "execution_count": 21,
      "outputs": [],
      "id": "09dd313d"
    },
    {
      "cell_type": "code",
      "source": "# jumlah lagu yang diputar di Springfield pada hari Senin\n\nnumber_tracks('Monday', 'Springfield')",
      "metadata": {
        "trusted": true
      },
      "execution_count": 22,
      "outputs": [
        {
          "execution_count": 22,
          "output_type": "execute_result",
          "data": {
            "text/plain": "15740"
          },
          "metadata": {}
        }
      ],
      "id": "1916d439"
    },
    {
      "cell_type": "code",
      "source": "# jumlah lagu yang diputar di Shelbyville pada hari Senin\n\nnumber_tracks('Monday', 'Shelbyville')\n",
      "metadata": {
        "trusted": true
      },
      "execution_count": 23,
      "outputs": [
        {
          "execution_count": 23,
          "output_type": "execute_result",
          "data": {
            "text/plain": "5614"
          },
          "metadata": {}
        }
      ],
      "id": "2cfbdecc"
    },
    {
      "cell_type": "code",
      "source": "# jumlah lagu yang diputar di Springfield pada hari Rabu\n\nnumber_tracks('Wednesday', 'Springfield')\n",
      "metadata": {
        "trusted": true
      },
      "execution_count": 24,
      "outputs": [
        {
          "execution_count": 24,
          "output_type": "execute_result",
          "data": {
            "text/plain": "11056"
          },
          "metadata": {}
        }
      ],
      "id": "56fc549b"
    },
    {
      "cell_type": "code",
      "source": "# jumlah lagu yang diputar di Shelbyville pada hari Rabu\n\nnumber_tracks('Wednesday', 'Shelbyville')\n",
      "metadata": {
        "trusted": true
      },
      "execution_count": 25,
      "outputs": [
        {
          "execution_count": 25,
          "output_type": "execute_result",
          "data": {
            "text/plain": "7003"
          },
          "metadata": {}
        }
      ],
      "id": "9afd77e7"
    },
    {
      "cell_type": "code",
      "source": "# jumlah lagu yang diputar di Springfield pada hari Jumat\n\nnumber_tracks('Friday', 'Springfield')\n",
      "metadata": {
        "trusted": true
      },
      "execution_count": 26,
      "outputs": [
        {
          "execution_count": 26,
          "output_type": "execute_result",
          "data": {
            "text/plain": "15945"
          },
          "metadata": {}
        }
      ],
      "id": "7c036531"
    },
    {
      "cell_type": "code",
      "source": "# jumlah lagu yang diputar di Shelbyville pada hari Jumat\n\nnumber_tracks('Friday', 'Shelbyville')\n",
      "metadata": {
        "trusted": true
      },
      "execution_count": 27,
      "outputs": [
        {
          "execution_count": 27,
          "output_type": "execute_result",
          "data": {
            "text/plain": "5895"
          },
          "metadata": {}
        }
      ],
      "id": "f90311cb"
    },
    {
      "cell_type": "code",
      "source": "# Membuat DataFrame kosong\n\nnew_df = pd.DataFrame(columns=['city', 'monday', 'wednesday', 'friday'])\n\ncities = ['Springfield', 'Shelbyville']\ndays = ['Monday', 'Wednesday', 'Friday']\n\nfor city in cities:\n    row_data = {'city': city}  # membuat dictionary\n    for day in days:\n        track_count = number_tracks(day, city)\n        row_data[day.lower()] = track_count  # menambahkan dictionary\n    new_df = new_df.append(row_data, ignore_index=True)\n    \nprint(new_df)\n",
      "metadata": {
        "trusted": true
      },
      "execution_count": 28,
      "outputs": [
        {
          "name": "stderr",
          "text": "<ipython-input-28-0f10ebc58df5>:13: FutureWarning: The frame.append method is deprecated and will be removed from pandas in a future version. Use pandas.concat instead.\n  new_df = new_df.append(row_data, ignore_index=True)\n<ipython-input-28-0f10ebc58df5>:13: FutureWarning: The frame.append method is deprecated and will be removed from pandas in a future version. Use pandas.concat instead.\n  new_df = new_df.append(row_data, ignore_index=True)\n",
          "output_type": "stream"
        },
        {
          "name": "stdout",
          "text": "          city monday wednesday friday\n0  Springfield  15740     11056  15945\n1  Shelbyville   5614      7003   5895\n",
          "output_type": "stream"
        }
      ],
      "id": "c4bddc6b"
    },
    {
      "cell_type": "markdown",
      "source": "# Kesimpulan\n\nDari hasil di atas, terlihat beberapa perbedaan perilaku pengguna: \n* Di kota Springfield, jumlah trek lagu yang diputar mencapai puncaknya pada Jumat, sedangkan Shelbyville mencapai puncaknya pada hari Rabu. \n* Di kota Shelbyville penurunan aktivitas terjadi pada hari Senin dan Jumat. Sedangkan di kota Springfield, penurunan aktivitas yang signifikan terjadi pada hari rabu. \n",
      "metadata": {},
      "id": "b8e7071e-84d3-44e0-b45d-759f849c4832"
    },
    {
      "cell_type": "markdown",
      "source": "## Hipotesis 2: Pada hari Senin pagi dan Jumat malam, warga Springfield mendengarkan genre musik yang berbeda dari yang dimikmati warga Shelbyville\n\nPertama-tama, saya akan membuat dua tabel untuk masing-masing-masing kota. \n",
      "metadata": {},
      "id": "574888fa-8147-47cc-85e6-6ad0b58853d2"
    },
    {
      "cell_type": "code",
      "source": "# menampilkan tabel Springfield\n\ndf_springfield = df[df['city'] == 'Springfield']\ndf_springfield",
      "metadata": {
        "trusted": true
      },
      "execution_count": 29,
      "outputs": [
        {
          "execution_count": 29,
          "output_type": "execute_result",
          "data": {
            "text/plain": "        user_id                          track                   artist  \\\n1      55204538    Delayed Because of Accident         Andreas Rönnberg   \n4      E2DC1FAE                    Soul People               Space Echo   \n6      4CB90AA5                           True             Roman Messer   \n7      F03E1C1F               Feeling This Way          Polina Griffith   \n8      8FA1D3BE                       L’estate              Julia Dalia   \n...         ...                            ...                      ...   \n65073  83A474E7  I Worship Only What You Bleed  The Black Dahlia Murder   \n65074  729CBB09                        My Name                   McLean   \n65076  C5E3A0D5                      Jalopiina                  unknown   \n65077  321D0506                  Freight Train            Chas McDevitt   \n65078  3A64EF84      Tell Me Sweet Little Lies             Monica Lopez   \n\n              genre         city      time        day  \n1              rock  Springfield  14:07:09     Friday  \n4             dance  Springfield  08:34:34     Monday  \n6             dance  Springfield  13:00:07  Wednesday  \n7             dance  Springfield  20:47:49  Wednesday  \n8            ruspop  Springfield  09:17:40     Friday  \n...             ...          ...       ...        ...  \n65073  extrememetal  Springfield  21:07:12     Monday  \n65074           rnb  Springfield  13:32:28  Wednesday  \n65076    industrial  Springfield  20:09:26     Friday  \n65077          rock  Springfield  21:43:59     Friday  \n65078       country  Springfield  21:59:46     Friday  \n\n[42741 rows x 7 columns]",
            "text/html": "<div>\n<style scoped>\n    .dataframe tbody tr th:only-of-type {\n        vertical-align: middle;\n    }\n\n    .dataframe tbody tr th {\n        vertical-align: top;\n    }\n\n    .dataframe thead th {\n        text-align: right;\n    }\n</style>\n<table border=\"1\" class=\"dataframe\">\n  <thead>\n    <tr style=\"text-align: right;\">\n      <th></th>\n      <th>user_id</th>\n      <th>track</th>\n      <th>artist</th>\n      <th>genre</th>\n      <th>city</th>\n      <th>time</th>\n      <th>day</th>\n    </tr>\n  </thead>\n  <tbody>\n    <tr>\n      <th>1</th>\n      <td>55204538</td>\n      <td>Delayed Because of Accident</td>\n      <td>Andreas Rönnberg</td>\n      <td>rock</td>\n      <td>Springfield</td>\n      <td>14:07:09</td>\n      <td>Friday</td>\n    </tr>\n    <tr>\n      <th>4</th>\n      <td>E2DC1FAE</td>\n      <td>Soul People</td>\n      <td>Space Echo</td>\n      <td>dance</td>\n      <td>Springfield</td>\n      <td>08:34:34</td>\n      <td>Monday</td>\n    </tr>\n    <tr>\n      <th>6</th>\n      <td>4CB90AA5</td>\n      <td>True</td>\n      <td>Roman Messer</td>\n      <td>dance</td>\n      <td>Springfield</td>\n      <td>13:00:07</td>\n      <td>Wednesday</td>\n    </tr>\n    <tr>\n      <th>7</th>\n      <td>F03E1C1F</td>\n      <td>Feeling This Way</td>\n      <td>Polina Griffith</td>\n      <td>dance</td>\n      <td>Springfield</td>\n      <td>20:47:49</td>\n      <td>Wednesday</td>\n    </tr>\n    <tr>\n      <th>8</th>\n      <td>8FA1D3BE</td>\n      <td>L’estate</td>\n      <td>Julia Dalia</td>\n      <td>ruspop</td>\n      <td>Springfield</td>\n      <td>09:17:40</td>\n      <td>Friday</td>\n    </tr>\n    <tr>\n      <th>...</th>\n      <td>...</td>\n      <td>...</td>\n      <td>...</td>\n      <td>...</td>\n      <td>...</td>\n      <td>...</td>\n      <td>...</td>\n    </tr>\n    <tr>\n      <th>65073</th>\n      <td>83A474E7</td>\n      <td>I Worship Only What You Bleed</td>\n      <td>The Black Dahlia Murder</td>\n      <td>extrememetal</td>\n      <td>Springfield</td>\n      <td>21:07:12</td>\n      <td>Monday</td>\n    </tr>\n    <tr>\n      <th>65074</th>\n      <td>729CBB09</td>\n      <td>My Name</td>\n      <td>McLean</td>\n      <td>rnb</td>\n      <td>Springfield</td>\n      <td>13:32:28</td>\n      <td>Wednesday</td>\n    </tr>\n    <tr>\n      <th>65076</th>\n      <td>C5E3A0D5</td>\n      <td>Jalopiina</td>\n      <td>unknown</td>\n      <td>industrial</td>\n      <td>Springfield</td>\n      <td>20:09:26</td>\n      <td>Friday</td>\n    </tr>\n    <tr>\n      <th>65077</th>\n      <td>321D0506</td>\n      <td>Freight Train</td>\n      <td>Chas McDevitt</td>\n      <td>rock</td>\n      <td>Springfield</td>\n      <td>21:43:59</td>\n      <td>Friday</td>\n    </tr>\n    <tr>\n      <th>65078</th>\n      <td>3A64EF84</td>\n      <td>Tell Me Sweet Little Lies</td>\n      <td>Monica Lopez</td>\n      <td>country</td>\n      <td>Springfield</td>\n      <td>21:59:46</td>\n      <td>Friday</td>\n    </tr>\n  </tbody>\n</table>\n<p>42741 rows × 7 columns</p>\n</div>"
          },
          "metadata": {}
        }
      ],
      "id": "8a8049fa-0e7e-4978-805f-0dc4f572612b"
    },
    {
      "cell_type": "code",
      "source": "# menampilkan tabel Shelbyville\n\ndf_shelbyville = df[df['city'] == 'Shelbyville']\ndf_shelbyville\n",
      "metadata": {
        "trusted": true
      },
      "execution_count": 30,
      "outputs": [
        {
          "execution_count": 30,
          "output_type": "execute_result",
          "data": {
            "text/plain": "        user_id                              track              artist  \\\n0      FFB692EC                  Kamigata To Boots    The Mass Missile   \n2        20EC38                  Funiculì funiculà         Mario Lanza   \n3      A3DD03C9              Dragons in the Sunset          Fire + Ice   \n5      842029A1                             Chains            Obladaet   \n9      E772D5C0                          Pessimist             unknown   \n...         ...                                ...                 ...   \n65063  D94F810B        Theme from the Walking Dead  Proyecto Halloween   \n65064  BC8EC5CF       Red Lips: Gta (Rover Rework)               Rover   \n65065  29E04611                       Bre Petrunko       Perunika Trio   \n65066  1B91C621             (Hello) Cloud Mountain     sleepmakeswaves   \n65075  D08D4A55  Maybe One Day (feat. Black Spade)         Blu & Exile   \n\n            genre         city      time        day  \n0            rock  Shelbyville  20:28:33  Wednesday  \n2             pop  Shelbyville  20:58:07  Wednesday  \n3            folk  Shelbyville  08:37:09     Monday  \n5          rusrap  Shelbyville  13:09:41     Friday  \n9           dance  Shelbyville  21:20:49  Wednesday  \n...           ...          ...       ...        ...  \n65063        film  Shelbyville  21:14:40     Monday  \n65064  electronic  Shelbyville  21:06:50     Monday  \n65065       world  Shelbyville  13:56:00     Monday  \n65066    postrock  Shelbyville  09:22:13     Monday  \n65075      hiphop  Shelbyville  10:00:00     Monday  \n\n[18512 rows x 7 columns]",
            "text/html": "<div>\n<style scoped>\n    .dataframe tbody tr th:only-of-type {\n        vertical-align: middle;\n    }\n\n    .dataframe tbody tr th {\n        vertical-align: top;\n    }\n\n    .dataframe thead th {\n        text-align: right;\n    }\n</style>\n<table border=\"1\" class=\"dataframe\">\n  <thead>\n    <tr style=\"text-align: right;\">\n      <th></th>\n      <th>user_id</th>\n      <th>track</th>\n      <th>artist</th>\n      <th>genre</th>\n      <th>city</th>\n      <th>time</th>\n      <th>day</th>\n    </tr>\n  </thead>\n  <tbody>\n    <tr>\n      <th>0</th>\n      <td>FFB692EC</td>\n      <td>Kamigata To Boots</td>\n      <td>The Mass Missile</td>\n      <td>rock</td>\n      <td>Shelbyville</td>\n      <td>20:28:33</td>\n      <td>Wednesday</td>\n    </tr>\n    <tr>\n      <th>2</th>\n      <td>20EC38</td>\n      <td>Funiculì funiculà</td>\n      <td>Mario Lanza</td>\n      <td>pop</td>\n      <td>Shelbyville</td>\n      <td>20:58:07</td>\n      <td>Wednesday</td>\n    </tr>\n    <tr>\n      <th>3</th>\n      <td>A3DD03C9</td>\n      <td>Dragons in the Sunset</td>\n      <td>Fire + Ice</td>\n      <td>folk</td>\n      <td>Shelbyville</td>\n      <td>08:37:09</td>\n      <td>Monday</td>\n    </tr>\n    <tr>\n      <th>5</th>\n      <td>842029A1</td>\n      <td>Chains</td>\n      <td>Obladaet</td>\n      <td>rusrap</td>\n      <td>Shelbyville</td>\n      <td>13:09:41</td>\n      <td>Friday</td>\n    </tr>\n    <tr>\n      <th>9</th>\n      <td>E772D5C0</td>\n      <td>Pessimist</td>\n      <td>unknown</td>\n      <td>dance</td>\n      <td>Shelbyville</td>\n      <td>21:20:49</td>\n      <td>Wednesday</td>\n    </tr>\n    <tr>\n      <th>...</th>\n      <td>...</td>\n      <td>...</td>\n      <td>...</td>\n      <td>...</td>\n      <td>...</td>\n      <td>...</td>\n      <td>...</td>\n    </tr>\n    <tr>\n      <th>65063</th>\n      <td>D94F810B</td>\n      <td>Theme from the Walking Dead</td>\n      <td>Proyecto Halloween</td>\n      <td>film</td>\n      <td>Shelbyville</td>\n      <td>21:14:40</td>\n      <td>Monday</td>\n    </tr>\n    <tr>\n      <th>65064</th>\n      <td>BC8EC5CF</td>\n      <td>Red Lips: Gta (Rover Rework)</td>\n      <td>Rover</td>\n      <td>electronic</td>\n      <td>Shelbyville</td>\n      <td>21:06:50</td>\n      <td>Monday</td>\n    </tr>\n    <tr>\n      <th>65065</th>\n      <td>29E04611</td>\n      <td>Bre Petrunko</td>\n      <td>Perunika Trio</td>\n      <td>world</td>\n      <td>Shelbyville</td>\n      <td>13:56:00</td>\n      <td>Monday</td>\n    </tr>\n    <tr>\n      <th>65066</th>\n      <td>1B91C621</td>\n      <td>(Hello) Cloud Mountain</td>\n      <td>sleepmakeswaves</td>\n      <td>postrock</td>\n      <td>Shelbyville</td>\n      <td>09:22:13</td>\n      <td>Monday</td>\n    </tr>\n    <tr>\n      <th>65075</th>\n      <td>D08D4A55</td>\n      <td>Maybe One Day (feat. Black Spade)</td>\n      <td>Blu &amp; Exile</td>\n      <td>hiphop</td>\n      <td>Shelbyville</td>\n      <td>10:00:00</td>\n      <td>Monday</td>\n    </tr>\n  </tbody>\n</table>\n<p>18512 rows × 7 columns</p>\n</div>"
          },
          "metadata": {}
        }
      ],
      "id": "4e06d9e9-bbff-4e18-bc7c-71aa63014d66"
    },
    {
      "cell_type": "markdown",
      "source": "Saya akan menampilkan informasi 15 genre paling populer pada hari tertentu dalam periode antara dua stempel waktu. Untuk itu saya akan membuat fungsi `genre_weekday` dengan empat parameter: \n\n- Sebuah tabel untuk data\n- Nama hari\n- Stempel waktu awal, dalam format 'hh:mm'\n- Stempel waktu akhir, dalam format 'hh:mm'\n",
      "metadata": {},
      "id": "b2e6ec24-7d1f-4676-8bec-dce3c4e34df6"
    },
    {
      "cell_type": "markdown",
      "source": "Saya akan membandingkan perilaku masing-masing kota pada hari Senin pagi (dari pukul 07.00 hingga 11.00) dan pada hari Jumat malam (dari pukul 17.00 hingga 23.00).\n\nPertama-tama, saya akan membuat tabel yang menampilkan 15 genre populer. \n\n* Springfield, Senin pagi (pukul 07.00 hingga 11.00), Jumat malam (dari pukul 17.00 hingga 23.00). \n* springfield , senin pagi\n\n\n\n\nsebuah tabel di mana:\n- hanya menampilkan hari tertentu\n- hanya menampilkan jam sebelum jam tertentu\n- hanya menampilkan jam sesudah jam tertentu",
      "metadata": {},
      "id": "e3111acc-b8b1-4723-96b8-d679505077aa"
    },
    {
      "cell_type": "code",
      "source": "\ncities = ['Springfield', 'Shelbyville']\ndays = ['Monday', 'Friday']\ndatas = [df_shelbyville, df_springfield]\n\ndef top_15_genre_on_day(kota, data, day, time1, time2): \n    genre_df = data[data['day'] == day] # filter hari\n    # memfilter jam\n    genre_df = data[data['time'] < time2]\n    genre_df = data[data['time'] > time1]\n    \n    genre_df_count = genre_df['genre'].value_counts() # menghitung genre\n    top_15_genre = genre_df_count.head(15) # 15 genre teratas\n    print(kota, day, time1, 'hingga', time2) # keterangan\n    return top_15_genre # mengembalikan data series 15 genre teratas",
      "metadata": {
        "trusted": true
      },
      "execution_count": 31,
      "outputs": [],
      "id": "028b04b9-aa21-455e-b12c-e2729476c04c"
    },
    {
      "cell_type": "code",
      "source": "top_15_genre_on_day('Shelbyville', df_shelbyville, 'Monday', '07:00:00', '11:00:00')",
      "metadata": {
        "trusted": true
      },
      "execution_count": 32,
      "outputs": [
        {
          "name": "stdout",
          "text": "Shelbyville Monday 07:00:00 hingga 11:00:00\n",
          "output_type": "stream"
        },
        {
          "execution_count": 32,
          "output_type": "execute_result",
          "data": {
            "text/plain": "pop            2431\ndance          1932\nrock           1879\nelectronic     1736\nhiphop          960\nalternative     649\nclassical       646\nrusrap          564\nruspop          538\nworld           515\njazz            486\nmetal           378\nsoundtrack      331\nrnb             321\nrap             309\nName: genre, dtype: int64"
          },
          "metadata": {}
        }
      ],
      "id": "1eb7a5c9-728e-4d11-9bca-012bb45bac24"
    },
    {
      "cell_type": "code",
      "source": "top_15_genre_on_day('Springfield', df_springfield, 'Monday', '07:00:00', '11:00:00')",
      "metadata": {
        "trusted": true
      },
      "execution_count": 33,
      "outputs": [
        {
          "name": "stdout",
          "text": "Springfield Monday 07:00:00 hingga 11:00:00\n",
          "output_type": "stream"
        },
        {
          "execution_count": 33,
          "output_type": "execute_result",
          "data": {
            "text/plain": "pop            5892\ndance          4435\nrock           3965\nelectronic     3786\nhiphop         2096\nclassical      1616\nworld          1432\nalternative    1379\nruspop         1372\nrusrap         1161\njazz            980\nunknown         849\nmetal           832\nsoundtrack      785\nfolk            692\nName: genre, dtype: int64"
          },
          "metadata": {}
        }
      ],
      "id": "32384b3d-cec0-4813-90ff-4b70eb65ebbb"
    },
    {
      "cell_type": "code",
      "source": "top_15_genre_on_day('Shelbyville', df_shelbyville, 'Friday', '17:00:00', '23:00:00')",
      "metadata": {
        "trusted": true
      },
      "execution_count": 34,
      "outputs": [
        {
          "name": "stdout",
          "text": "Shelbyville Friday 17:00:00 hingga 23:00:00\n",
          "output_type": "stream"
        },
        {
          "execution_count": 34,
          "output_type": "execute_result",
          "data": {
            "text/plain": "pop            839\nrock           667\nelectronic     649\ndance          626\nhiphop         332\nalternative    234\nclassical      219\nrusrap         184\nworld          179\njazz           179\nruspop         170\nmetal          135\nsoundtrack     123\nunknown        120\nfolk           104\nName: genre, dtype: int64"
          },
          "metadata": {}
        }
      ],
      "id": "67ec657e-57f3-4d0e-818b-c9d5980e31ef"
    },
    {
      "cell_type": "code",
      "source": "top_15_genre_on_day('Springfield', df_springfield, 'Friday', '17:00:00', '23:00:00')",
      "metadata": {
        "trusted": true
      },
      "execution_count": 35,
      "outputs": [
        {
          "name": "stdout",
          "text": "Springfield Friday 17:00:00 hingga 23:00:00\n",
          "output_type": "stream"
        },
        {
          "execution_count": 35,
          "output_type": "execute_result",
          "data": {
            "text/plain": "pop            1983\ndance          1430\nrock           1386\nelectronic     1284\nhiphop          685\nworld           501\nclassical       487\nalternative     475\nruspop          435\nrusrap          382\njazz            332\nsoundtrack      284\nunknown         255\nfolk            237\nmetal           233\nName: genre, dtype: int64"
          },
          "metadata": {}
        }
      ],
      "id": "484fdb61-12b4-4a92-9595-9961c4f848ac"
    },
    {
      "cell_type": "markdown",
      "source": "### Kesimpulan Hipotesis 2\n\nSetelah membandingkan 15 genre teratas pada hari Senin pagi, kita dapat menarik kesimpulan sebagai berikut: \n1. Pengguna dari Springfield dan Shelbyville mendengarkan musik dengan genre yang sama. Lima genre teratas dari kedua kota sama, hanya genre rock dan electronik yang bertukar tempat. \n2. Di Springfield, jumlah nilai yang hilang ternyata sangat besar, yakni 849, pada urutan ke-10. Artinya, nilai-nilai yang hilang mencakup proporsi data yang cukup besar, sehingga fakta ini bisa dijadikan dasar untuk mempertanyakan reliabilitas kesimpulan ini. \n\nUntuk hari Jumat malam, situasinya juga serupa. Genre individual cukup bervariasi tetapi secara keseluruhan 15 besar genre untuk kedua kota sama. \n\nDengan demikian, hipotesis kedua terbukti benar sebagagian: \n* Pengguna mendengarkan musik yang sama di awal dan di akhir minggu. \n* Tidak ada perbedaan yang mencolok antara Springfield dan Shelbyville. Di kedua kota tersebut, pop adalah genre yang paling populer. \n\nMeski demikian, signifikansi jumlah nilai yang hilang membuat hasil ini patut dipertanyakan. Di springfield, terdapat begitu banyak nilai hilang yang memengaruhi 15 genre teratas. Jika kita tidak memiliki nilai yang hilang tersebut, hasilnya mungkin akan berbeda. \n\n    \n    ",
      "metadata": {},
      "id": "4b9b558a-dfa7-4832-80ca-1a0c33e26c41"
    },
    {
      "cell_type": "markdown",
      "source": "# Hipotesis 3: Pendengar di kota Shelbyville menyukai musik rap, sementara pendengar di kota Springfield lebih menyukai pop\n\nSaya akan menampilkan 10 genre teratas pada masing-masing kota untuk menguji hipotesis tersebut",
      "metadata": {},
      "id": "7c70f816-d4e7-41c2-890f-47f1f6c54595"
    },
    {
      "cell_type": "code",
      "source": "df_springfield_genre = df_springfield.groupby('genre')['genre'].count().sort_values(ascending=False)\nprint('Springfield')\ndf_springfield_genre.head(10)",
      "metadata": {
        "trusted": true
      },
      "execution_count": 40,
      "outputs": [
        {
          "name": "stdout",
          "text": "Springfield\n",
          "output_type": "stream"
        },
        {
          "execution_count": 40,
          "output_type": "execute_result",
          "data": {
            "text/plain": "genre\npop            5892\ndance          4435\nrock           3965\nelectronic     3786\nhiphop         2096\nclassical      1616\nworld          1432\nalternative    1379\nruspop         1372\nrusrap         1161\nName: genre, dtype: int64"
          },
          "metadata": {}
        }
      ],
      "id": "024b7de8-84be-4d4d-9791-c3823a21b8dc"
    },
    {
      "cell_type": "code",
      "source": "df_shelbyville_genre = df_shelbyville.groupby('genre')['genre'].count().sort_values(ascending=False)\nprint('Shelbyville')\ndf_shelbyville_genre.head(10)",
      "metadata": {
        "trusted": true
      },
      "execution_count": 42,
      "outputs": [
        {
          "name": "stdout",
          "text": "Shelbyville\n",
          "output_type": "stream"
        },
        {
          "execution_count": 42,
          "output_type": "execute_result",
          "data": {
            "text/plain": "genre\npop            2431\ndance          1932\nrock           1879\nelectronic     1736\nhiphop          960\nalternative     649\nclassical       646\nrusrap          564\nruspop          538\nworld           515\nName: genre, dtype: int64"
          },
          "metadata": {}
        }
      ],
      "id": "7e5a62a6-e12f-4b21-8d08-735eeb10687c"
    },
    {
      "cell_type": "markdown",
      "source": "## Kesimpulan\n\nHipotesis ini terbukti benar sebagian: \n* Musik pop adalah genre yang paling populer di Springfield, seperti yang diperkirakan. \n* Namun, musik pop ternyata sama populernya di Shelbyville, dan musik rap ternyata tidak masuk ke daftar 5 besar genre untuk kedua kota tersebut. ",
      "metadata": {},
      "id": "f9a7f5bc-911e-4bce-bcbf-4f8c59024a92"
    },
    {
      "cell_type": "markdown",
      "source": "# Temuan\n\nKita telah menguji tiga hipotesis berikut: \n1. Aktivitas pengguna berbeda-beda tergantung pada hari dan kotanya. \n2. Pada Senin pagi, penduduk Springfield dan Shelbyville mendengarkan genre yang berbeda. Hal ini juga berlaku untuk hari Jumat malam. \n3. Pendengar di kota Springfield dan Shelbyville memiliki preferensi yang berbeda. Baik di Springfield maupun di Shelbyville, pengguna lebih menyukai musik pop. \n\nSetelah menganalisis data yang tersedia, kita dapat menyimpulkan bahwa: \n1. Aktivitas pengguna di Springfield dan Shelbyville bergantung pada hari dalam seminggu, meskipun kedua kota ini bervariasi dalam berbagai cara. \n\nHipotesis pertama dapat diterima sepenuhnya. \n2. Preferensi musik tidak bervariasi secara signifikan sepanjang minggu di Springfield dan Shelbyville. Kita bisa melihat perbedaan kecil dalam urutan pada hari Senin, tetapi: \n    * Baik di Springfield maupun di Shelbyville, pengguna paling banyak mendengarkan musik pop. \n\nOleh karena itu, hipotesis ini tidak dapat diterima. Pengting juga untuk mengingatkan bahwa hasil yang diperoleh bisa saja berbeda seandainya kita tidak memiliki nilai yang hilang. \n\n3. Ternyata, preferensi musik pengguna dari kota Springfield dan Shelbyville sangatlah mirip. \n\nHipotesis ketiga ditolak. Jika memang terdapat preferensi, sayangnya hal ini tidak dapat kita ketahui dari dari data ini. ",
      "metadata": {},
      "id": "42366720-14e7-4483-8e9b-ee64b270941c"
    },
    {
      "cell_type": "code",
      "source": "",
      "metadata": {},
      "execution_count": null,
      "outputs": [],
      "id": "ddf170bc-9722-4b36-814f-7f7a1b0428d4"
    }
  ]
}